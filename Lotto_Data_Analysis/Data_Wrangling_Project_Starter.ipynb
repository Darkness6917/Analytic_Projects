{
 "cells": [
  {
   "cell_type": "markdown",
   "metadata": {
    "id": "GNIwe5N7s0e_"
   },
   "source": [
    "# Real-world Data Wrangling"
   ]
  },
  {
   "cell_type": "markdown",
   "metadata": {
    "id": "_BG63Tpg8ep_"
   },
   "source": [
    "In this project, you will apply the skills you acquired in the course to gather and wrangle real-world data with two datasets of your choice.\n",
    "\n",
    "You will retrieve and extract the data, assess the data programmatically and visually, accross elements of data quality and structure, and implement a cleaning strategy for the data. You will then store the updated data into your selected database/data store, combine the data, and answer a research question with the datasets.\n",
    "\n",
    "Throughout the process, you are expected to:\n",
    "\n",
    "1. Explain your decisions towards methods used for gathering, assessing, cleaning, storing, and answering the research question\n",
    "2. Write code comments so your code is more readable"
   ]
  },
  {
   "cell_type": "code",
   "execution_count": 1,
   "metadata": {},
   "outputs": [],
   "source": [
    "##Imports\n",
    "import requests\n",
    "import os\n",
    "import pandas as pd\n",
    "import numpy as np\n",
    "import matplotlib.pyplot as plt"
   ]
  },
  {
   "cell_type": "markdown",
   "metadata": {
    "id": "lDYDkH-Zs7Nn"
   },
   "source": [
    "## 1. Gather data\n",
    "\n",
    "In this section, you will extract data using two different data gathering methods and combine the data. Use at least two different types of data-gathering methods."
   ]
  },
  {
   "cell_type": "markdown",
   "metadata": {},
   "source": [
    "#### Two Methods used: \n",
    "#### Programmically Downloading file using Python, OS and Requests libraries\n",
    "#### Manual download"
   ]
  },
  {
   "cell_type": "markdown",
   "metadata": {
    "id": "LbN7z7rcuqpO"
   },
   "source": [
    "### **1.1.** Problem Statement\n",
    "In 2-4 sentences, explain the kind of problem you want to look at and the datasets you will be wrangling for this project."
   ]
  },
  {
   "cell_type": "markdown",
   "metadata": {
    "id": "gi6swhjSYqu2"
   },
   "source": [
    "What are the most frequent numbers for winning the lotto in New York. I plan to merge the Mega Millions and Powerball to get a larger data set."
   ]
  },
  {
   "cell_type": "markdown",
   "metadata": {
    "id": "8AQfBAdUypMm"
   },
   "source": [
    "### **1.2.** Gather at least two datasets using two different data gathering methods\n",
    "\n",
    "List of data gathering methods:\n",
    "\n",
    "- Download data manually\n",
    "- Programmatically downloading files\n",
    "- Gather data by accessing APIs\n",
    "- Gather and extract data from HTML files using BeautifulSoup\n",
    "- Extract data from a SQL database\n",
    "\n",
    "Each dataset must have at least two variables, and have greater than 500 data samples within each dataset.\n",
    "\n",
    "For each dataset, briefly describe why you picked the dataset and the gathering method (2-3 full sentences), including the names and significance of the variables in the dataset. Show your work (e.g., if using an API to download the data, please include a snippet of your code). \n",
    "\n",
    "Load the dataset programmtically into this notebook."
   ]
  },
  {
   "cell_type": "markdown",
   "metadata": {
    "id": "7e6gS0wL1KTu"
   },
   "source": [
    "#### **Dataset 1**\n",
    "\n",
    "Type: CSV\n",
    "\n",
    "Method: Programmically downloaded\n",
    "\n",
    "Dataset variables: Winning Numbers, Multiplyer"
   ]
  },
  {
   "cell_type": "code",
   "execution_count": 2,
   "metadata": {
    "id": "Su8E0uLuYkHU"
   },
   "outputs": [
    {
     "name": "stdout",
     "output_type": "stream",
     "text": [
      "File downloaded successfully in folder: Powerball_MegaMillions_Data\n"
     ]
    }
   ],
   "source": [
    "# URL of the dataset\n",
    "url = 'https://data.ny.gov/api/views/d6yy-54nr/rows.csv?accessType=DOWNLOAD'\n",
    "folder_name = 'Powerball_MegaMillions_Data'\n",
    "file_name = 'Powerball_Winning_Numbers.csv'\n",
    "# Create the folder if it doesn't exist\n",
    "if not os.path.exists(folder_name):\n",
    "    os.makedirs(folder_name)\n",
    "# Full path for the file\n",
    "path = os.path.join(folder_name, file_name)\n",
    "# Sending a request to the URL\n",
    "dlData = requests.get(url)\n",
    "# Check if the request was successful\n",
    "if dlData.status_code == 200:\n",
    "    # Write the content to the file\n",
    "    with open(path, 'wb') as file:\n",
    "        file.write(dlData.content)\n",
    "    print(\"File downloaded successfully in folder:\", folder_name)\n",
    "else:\n",
    "    print(\"Failed to download the file. Status code:\")"
   ]
  },
  {
   "cell_type": "code",
   "execution_count": 3,
   "metadata": {},
   "outputs": [],
   "source": [
    "df_pb = pd.read_csv(\"Powerball_MegaMillions_Data/Powerball_Winning_Numbers.csv\")"
   ]
  },
  {
   "cell_type": "code",
   "execution_count": 4,
   "metadata": {},
   "outputs": [
    {
     "data": {
      "text/html": [
       "<div>\n",
       "<style scoped>\n",
       "    .dataframe tbody tr th:only-of-type {\n",
       "        vertical-align: middle;\n",
       "    }\n",
       "\n",
       "    .dataframe tbody tr th {\n",
       "        vertical-align: top;\n",
       "    }\n",
       "\n",
       "    .dataframe thead th {\n",
       "        text-align: right;\n",
       "    }\n",
       "</style>\n",
       "<table border=\"1\" class=\"dataframe\">\n",
       "  <thead>\n",
       "    <tr style=\"text-align: right;\">\n",
       "      <th></th>\n",
       "      <th>Draw Date</th>\n",
       "      <th>Winning Numbers</th>\n",
       "      <th>Multiplier</th>\n",
       "    </tr>\n",
       "  </thead>\n",
       "  <tbody>\n",
       "    <tr>\n",
       "      <th>0</th>\n",
       "      <td>09/26/2020</td>\n",
       "      <td>11 21 27 36 62 24</td>\n",
       "      <td>3.0</td>\n",
       "    </tr>\n",
       "    <tr>\n",
       "      <th>1</th>\n",
       "      <td>09/30/2020</td>\n",
       "      <td>14 18 36 49 67 18</td>\n",
       "      <td>2.0</td>\n",
       "    </tr>\n",
       "    <tr>\n",
       "      <th>2</th>\n",
       "      <td>10/03/2020</td>\n",
       "      <td>18 31 36 43 47 20</td>\n",
       "      <td>2.0</td>\n",
       "    </tr>\n",
       "    <tr>\n",
       "      <th>3</th>\n",
       "      <td>10/07/2020</td>\n",
       "      <td>06 24 30 53 56 19</td>\n",
       "      <td>2.0</td>\n",
       "    </tr>\n",
       "    <tr>\n",
       "      <th>4</th>\n",
       "      <td>10/10/2020</td>\n",
       "      <td>05 18 23 40 50 18</td>\n",
       "      <td>3.0</td>\n",
       "    </tr>\n",
       "  </tbody>\n",
       "</table>\n",
       "</div>"
      ],
      "text/plain": [
       "    Draw Date    Winning Numbers  Multiplier\n",
       "0  09/26/2020  11 21 27 36 62 24         3.0\n",
       "1  09/30/2020  14 18 36 49 67 18         2.0\n",
       "2  10/03/2020  18 31 36 43 47 20         2.0\n",
       "3  10/07/2020  06 24 30 53 56 19         2.0\n",
       "4  10/10/2020  05 18 23 40 50 18         3.0"
      ]
     },
     "execution_count": 4,
     "metadata": {},
     "output_type": "execute_result"
    }
   ],
   "source": [
    "df_pb.head()"
   ]
  },
  {
   "cell_type": "markdown",
   "metadata": {
    "id": "hoUjq1tPzz7P"
   },
   "source": [
    "#### Dataset 2\n",
    "\n",
    "Type: CSV\n",
    "\n",
    "Method: *FILL IN* (e.g., The data was gathered using the \"API\" method from Y source.)\n",
    "\n",
    "Dataset variables:\n",
    "\n",
    "*   *Variable 1 FILL IN* (e.g., H_MEAN: Mean hourly wage)\n",
    "*   *Variable 2 FILL IN*"
   ]
  },
  {
   "cell_type": "code",
   "execution_count": 5,
   "metadata": {
    "id": "6zT0QxRyYmm7"
   },
   "outputs": [
    {
     "data": {
      "text/html": [
       "<div>\n",
       "<style scoped>\n",
       "    .dataframe tbody tr th:only-of-type {\n",
       "        vertical-align: middle;\n",
       "    }\n",
       "\n",
       "    .dataframe tbody tr th {\n",
       "        vertical-align: top;\n",
       "    }\n",
       "\n",
       "    .dataframe thead th {\n",
       "        text-align: right;\n",
       "    }\n",
       "</style>\n",
       "<table border=\"1\" class=\"dataframe\">\n",
       "  <thead>\n",
       "    <tr style=\"text-align: right;\">\n",
       "      <th></th>\n",
       "      <th>Draw Date</th>\n",
       "      <th>Winning Numbers</th>\n",
       "      <th>Mega Ball</th>\n",
       "      <th>Multiplier</th>\n",
       "    </tr>\n",
       "  </thead>\n",
       "  <tbody>\n",
       "    <tr>\n",
       "      <th>0</th>\n",
       "      <td>09/25/2020</td>\n",
       "      <td>20 36 37 48 67</td>\n",
       "      <td>16</td>\n",
       "      <td>2.0</td>\n",
       "    </tr>\n",
       "    <tr>\n",
       "      <th>1</th>\n",
       "      <td>09/29/2020</td>\n",
       "      <td>14 39 43 44 67</td>\n",
       "      <td>19</td>\n",
       "      <td>3.0</td>\n",
       "    </tr>\n",
       "    <tr>\n",
       "      <th>2</th>\n",
       "      <td>10/02/2020</td>\n",
       "      <td>09 38 47 49 68</td>\n",
       "      <td>25</td>\n",
       "      <td>2.0</td>\n",
       "    </tr>\n",
       "    <tr>\n",
       "      <th>3</th>\n",
       "      <td>10/06/2020</td>\n",
       "      <td>15 16 18 39 59</td>\n",
       "      <td>17</td>\n",
       "      <td>3.0</td>\n",
       "    </tr>\n",
       "    <tr>\n",
       "      <th>4</th>\n",
       "      <td>10/09/2020</td>\n",
       "      <td>05 11 25 27 64</td>\n",
       "      <td>13</td>\n",
       "      <td>2.0</td>\n",
       "    </tr>\n",
       "  </tbody>\n",
       "</table>\n",
       "</div>"
      ],
      "text/plain": [
       "    Draw Date Winning Numbers  Mega Ball  Multiplier\n",
       "0  09/25/2020  20 36 37 48 67         16         2.0\n",
       "1  09/29/2020  14 39 43 44 67         19         3.0\n",
       "2  10/02/2020  09 38 47 49 68         25         2.0\n",
       "3  10/06/2020  15 16 18 39 59         17         3.0\n",
       "4  10/09/2020  05 11 25 27 64         13         2.0"
      ]
     },
     "execution_count": 5,
     "metadata": {},
     "output_type": "execute_result"
    }
   ],
   "source": [
    "#Manually Downloaded.\n",
    "df_mm = pd.read_csv(\"Powerball_MegaMillions_Data/Lottery_Mega_Millions_Winning_Numbers__Beginning_2002.csv\")\n",
    "df_mm.head()"
   ]
  },
  {
   "cell_type": "markdown",
   "metadata": {
    "id": "QwSWIVmotLgV"
   },
   "source": [
    "## 2. Assess data\n",
    "\n",
    "Assess the data according to data quality and tidiness metrics using the report below.\n",
    "\n",
    "List **two** data quality issues and **two** tidiness issues. Assess each data issue visually **and** programmatically, then briefly describe the issue you find.  **Make sure you include justifications for the methods you use for the assessment.**"
   ]
  },
  {
   "cell_type": "markdown",
   "metadata": {
    "id": "adaK2iPNzVu4"
   },
   "source": [
    "### Quality Issue 1:"
   ]
  },
  {
   "cell_type": "code",
   "execution_count": 6,
   "metadata": {
    "id": "SpW59kh-zl8d"
   },
   "outputs": [
    {
     "data": {
      "text/html": [
       "<div>\n",
       "<style scoped>\n",
       "    .dataframe tbody tr th:only-of-type {\n",
       "        vertical-align: middle;\n",
       "    }\n",
       "\n",
       "    .dataframe tbody tr th {\n",
       "        vertical-align: top;\n",
       "    }\n",
       "\n",
       "    .dataframe thead th {\n",
       "        text-align: right;\n",
       "    }\n",
       "</style>\n",
       "<table border=\"1\" class=\"dataframe\">\n",
       "  <thead>\n",
       "    <tr style=\"text-align: right;\">\n",
       "      <th></th>\n",
       "      <th>Draw Date</th>\n",
       "      <th>Winning Numbers</th>\n",
       "      <th>Multiplier</th>\n",
       "    </tr>\n",
       "  </thead>\n",
       "  <tbody>\n",
       "    <tr>\n",
       "      <th>0</th>\n",
       "      <td>09/26/2020</td>\n",
       "      <td>11 21 27 36 62 24</td>\n",
       "      <td>3.0</td>\n",
       "    </tr>\n",
       "    <tr>\n",
       "      <th>1</th>\n",
       "      <td>09/30/2020</td>\n",
       "      <td>14 18 36 49 67 18</td>\n",
       "      <td>2.0</td>\n",
       "    </tr>\n",
       "    <tr>\n",
       "      <th>2</th>\n",
       "      <td>10/03/2020</td>\n",
       "      <td>18 31 36 43 47 20</td>\n",
       "      <td>2.0</td>\n",
       "    </tr>\n",
       "    <tr>\n",
       "      <th>3</th>\n",
       "      <td>10/07/2020</td>\n",
       "      <td>06 24 30 53 56 19</td>\n",
       "      <td>2.0</td>\n",
       "    </tr>\n",
       "    <tr>\n",
       "      <th>4</th>\n",
       "      <td>10/10/2020</td>\n",
       "      <td>05 18 23 40 50 18</td>\n",
       "      <td>3.0</td>\n",
       "    </tr>\n",
       "  </tbody>\n",
       "</table>\n",
       "</div>"
      ],
      "text/plain": [
       "    Draw Date    Winning Numbers  Multiplier\n",
       "0  09/26/2020  11 21 27 36 62 24         3.0\n",
       "1  09/30/2020  14 18 36 49 67 18         2.0\n",
       "2  10/03/2020  18 31 36 43 47 20         2.0\n",
       "3  10/07/2020  06 24 30 53 56 19         2.0\n",
       "4  10/10/2020  05 18 23 40 50 18         3.0"
      ]
     },
     "execution_count": 6,
     "metadata": {},
     "output_type": "execute_result"
    }
   ],
   "source": [
    "#Inspecting the dataframe visually\n",
    "df_pb.head()"
   ]
  },
  {
   "cell_type": "code",
   "execution_count": 7,
   "metadata": {},
   "outputs": [
    {
     "data": {
      "text/plain": [
       "array([[<AxesSubplot: title={'center': 'Multiplier'}>, <AxesSubplot: >,\n",
       "        <AxesSubplot: >],\n",
       "       [<AxesSubplot: >, <AxesSubplot: >, <AxesSubplot: >]], dtype=object)"
      ]
     },
     "execution_count": 7,
     "metadata": {},
     "output_type": "execute_result"
    },
    {
     "data": {
      "image/png": "[encoded data removed]",
      "text/plain": [
       "<Figure size 1200x800 with 6 Axes>"
      ]
     },
     "metadata": {},
     "output_type": "display_data"
    }
   ],
   "source": [
    "df_pb.hist(bins=30, layout=(2, 3), figsize=(12, 8))"
   ]
  },
  {
   "cell_type": "code",
   "execution_count": 8,
   "metadata": {
    "id": "-qfcocStzsKg"
   },
   "outputs": [
    {
     "name": "stdout",
     "output_type": "stream",
     "text": [
      "(1572, 3)\n",
      "Draw Date           object\n",
      "Winning Numbers     object\n",
      "Multiplier         float64\n",
      "dtype: object\n",
      "        Multiplier\n",
      "count  1362.000000\n",
      "mean      2.809104\n",
      "std       1.199549\n",
      "min       2.000000\n",
      "25%       2.000000\n",
      "50%       2.000000\n",
      "75%       3.000000\n",
      "max      10.000000\n",
      "Draw Date            0\n",
      "Winning Numbers      0\n",
      "Multiplier         210\n",
      "dtype: int64\n",
      "Empty DataFrame\n",
      "Columns: [Draw Date, Winning Numbers, Multiplier]\n",
      "Index: []\n"
     ]
    }
   ],
   "source": [
    "#MegaWrangle \n",
    "def MegaWrangle(df,shape,types,scribe,isNull,dupes):\n",
    "   if shape == \"Yes\":\n",
    "     print(df.shape)\n",
    "   elif types == \"Yes\":\n",
    "     print(df.dtypes)\n",
    "   elif scribe == \"Yes\":\n",
    "     print(df.describe())\n",
    "   elif isNull == \"Yes\":\n",
    "     print(df.isnull().sum())\n",
    "   elif dupes == \"Yes\":\n",
    "        duplicates = df[df.duplicated(keep=False)]\n",
    "        print(duplicates)\n",
    "cdf = df_pb\n",
    "MegaWrangle(cdf,\"Yes\",\"No\",\"No\",\"No\",\"No\")\n",
    "MegaWrangle(cdf,\"No\",\"Yes\",\"No\",\"No\",\"No\")\n",
    "MegaWrangle(cdf,\"No\",\"No\",\"Yes\",\"No\",\"No\")\n",
    "MegaWrangle(cdf,\"No\",\"No\",\"No\",\"Yes\",\"No\")\n",
    "MegaWrangle(cdf,\"No\",\"No\",\"No\",\"No\",\"Yes\")"
   ]
  },
  {
   "cell_type": "markdown",
   "metadata": {},
   "source": [
    "### Data issues with Powerball Data: \n",
    "### Data type issues: \n",
    "    1. Draw Date is object instead of Datetime\n",
    "    2. Winning number is object not int (Will seperate indiviual numbers and each will be in)\n",
    "### Other Issues: \n",
    "    1. Winning numbers are in a \"list\" inside of the varible. Will need to seperate these to ensure a good analysis\n",
    "    2. I was considering dropping Multiplyer. But it may be interesting to see if we have any trends based on that. \n",
    "    3. Power ball is not a seperate var like it is set up in the mega million data. I will need to make sure the final number in the \"winning numbers\" gets correct\n",
    "### Justification:\n",
    "             Visual: Histograms is a good way to see what each of the vars look like. in this case, I noticed that Mega had \"MegaBall\" and powerball did not.\n",
    "             Programmitically: I have noticed data types were off. Winning numbers and Drawdate seen on the data type issues above. \n",
    "### This leads into the tidness issues. Winning numbers are a single data var instead of seperate numbers for PowerBall"
   ]
  },
  {
   "cell_type": "markdown",
   "metadata": {
    "id": "8Be77N4I1AmE"
   },
   "source": [
    "### Quality Issue 2:"
   ]
  },
  {
   "cell_type": "code",
   "execution_count": 9,
   "metadata": {
    "id": "iMhHyiyLM2I3"
   },
   "outputs": [
    {
     "data": {
      "text/html": [
       "<div>\n",
       "<style scoped>\n",
       "    .dataframe tbody tr th:only-of-type {\n",
       "        vertical-align: middle;\n",
       "    }\n",
       "\n",
       "    .dataframe tbody tr th {\n",
       "        vertical-align: top;\n",
       "    }\n",
       "\n",
       "    .dataframe thead th {\n",
       "        text-align: right;\n",
       "    }\n",
       "</style>\n",
       "<table border=\"1\" class=\"dataframe\">\n",
       "  <thead>\n",
       "    <tr style=\"text-align: right;\">\n",
       "      <th></th>\n",
       "      <th>Draw Date</th>\n",
       "      <th>Winning Numbers</th>\n",
       "      <th>Mega Ball</th>\n",
       "      <th>Multiplier</th>\n",
       "    </tr>\n",
       "  </thead>\n",
       "  <tbody>\n",
       "    <tr>\n",
       "      <th>0</th>\n",
       "      <td>09/25/2020</td>\n",
       "      <td>20 36 37 48 67</td>\n",
       "      <td>16</td>\n",
       "      <td>2.0</td>\n",
       "    </tr>\n",
       "    <tr>\n",
       "      <th>1</th>\n",
       "      <td>09/29/2020</td>\n",
       "      <td>14 39 43 44 67</td>\n",
       "      <td>19</td>\n",
       "      <td>3.0</td>\n",
       "    </tr>\n",
       "    <tr>\n",
       "      <th>2</th>\n",
       "      <td>10/02/2020</td>\n",
       "      <td>09 38 47 49 68</td>\n",
       "      <td>25</td>\n",
       "      <td>2.0</td>\n",
       "    </tr>\n",
       "    <tr>\n",
       "      <th>3</th>\n",
       "      <td>10/06/2020</td>\n",
       "      <td>15 16 18 39 59</td>\n",
       "      <td>17</td>\n",
       "      <td>3.0</td>\n",
       "    </tr>\n",
       "    <tr>\n",
       "      <th>4</th>\n",
       "      <td>10/09/2020</td>\n",
       "      <td>05 11 25 27 64</td>\n",
       "      <td>13</td>\n",
       "      <td>2.0</td>\n",
       "    </tr>\n",
       "  </tbody>\n",
       "</table>\n",
       "</div>"
      ],
      "text/plain": [
       "    Draw Date Winning Numbers  Mega Ball  Multiplier\n",
       "0  09/25/2020  20 36 37 48 67         16         2.0\n",
       "1  09/29/2020  14 39 43 44 67         19         3.0\n",
       "2  10/02/2020  09 38 47 49 68         25         2.0\n",
       "3  10/06/2020  15 16 18 39 59         17         3.0\n",
       "4  10/09/2020  05 11 25 27 64         13         2.0"
      ]
     },
     "execution_count": 9,
     "metadata": {},
     "output_type": "execute_result"
    }
   ],
   "source": [
    "#Inspecting the dataframe visually\n",
    "df_mm.head()"
   ]
  },
  {
   "cell_type": "code",
   "execution_count": 10,
   "metadata": {},
   "outputs": [
    {
     "data": {
      "text/plain": [
       "array([[<AxesSubplot: title={'center': 'Mega Ball'}>,\n",
       "        <AxesSubplot: title={'center': 'Multiplier'}>, <AxesSubplot: >],\n",
       "       [<AxesSubplot: >, <AxesSubplot: >, <AxesSubplot: >]], dtype=object)"
      ]
     },
     "execution_count": 10,
     "metadata": {},
     "output_type": "execute_result"
    },
    {
     "data": {
      "image/png": "[encoded data removed]",
      "text/plain": [
       "<Figure size 1200x800 with 6 Axes>"
      ]
     },
     "metadata": {},
     "output_type": "display_data"
    }
   ],
   "source": [
    "df_mm.hist(bins=30, layout=(2, 3), figsize=(12, 8))"
   ]
  },
  {
   "cell_type": "code",
   "execution_count": 11,
   "metadata": {
    "id": "bnviRCUI-bb7"
   },
   "outputs": [
    {
     "name": "stdout",
     "output_type": "stream",
     "text": [
      "(2256, 4)\n",
      "Draw Date           object\n",
      "Winning Numbers     object\n",
      "Mega Ball            int64\n",
      "Multiplier         float64\n",
      "dtype: object\n",
      "         Mega Ball   Multiplier\n",
      "count  2256.000000  1353.000000\n",
      "mean     18.163564     3.314117\n",
      "std      12.813322     0.997593\n",
      "min       1.000000     2.000000\n",
      "25%       8.000000     3.000000\n",
      "50%      15.000000     3.000000\n",
      "75%      25.000000     4.000000\n",
      "max      52.000000     5.000000\n",
      "Draw Date            0\n",
      "Winning Numbers      0\n",
      "Mega Ball            0\n",
      "Multiplier         903\n",
      "dtype: int64\n",
      "Empty DataFrame\n",
      "Columns: [Draw Date, Winning Numbers, Mega Ball, Multiplier]\n",
      "Index: []\n"
     ]
    }
   ],
   "source": [
    "#FILL IN - Inspecting the dataframe programmatically\n",
    "#MegaWrangle \n",
    "def MegaWrangle(df,shape,types,scribe,isNull,dupes):\n",
    "   if shape == \"Yes\":\n",
    "     print(df.shape)\n",
    "   elif types == \"Yes\":\n",
    "     print(df.dtypes)\n",
    "   elif scribe == \"Yes\":\n",
    "     print(df.describe())\n",
    "   elif isNull == \"Yes\":\n",
    "     print(df.isnull().sum())\n",
    "   elif dupes == \"Yes\":\n",
    "        duplicates = df[df.duplicated(keep=False)]\n",
    "        print(duplicates)\n",
    "cdf = df_mm\n",
    "MegaWrangle(cdf,\"Yes\",\"No\",\"No\",\"No\",\"No\")\n",
    "MegaWrangle(cdf,\"No\",\"Yes\",\"No\",\"No\",\"No\")\n",
    "MegaWrangle(cdf,\"No\",\"No\",\"Yes\",\"No\",\"No\")\n",
    "MegaWrangle(cdf,\"No\",\"No\",\"No\",\"Yes\",\"No\")\n",
    "MegaWrangle(cdf,\"No\",\"No\",\"No\",\"No\",\"Yes\")"
   ]
  },
  {
   "cell_type": "code",
   "execution_count": 12,
   "metadata": {},
   "outputs": [
    {
     "name": "stdout",
     "output_type": "stream",
     "text": [
      "(1572, 3)\n",
      "Draw Date           object\n",
      "Winning Numbers     object\n",
      "Multiplier         float64\n",
      "dtype: object\n",
      "        Multiplier\n",
      "count  1362.000000\n",
      "mean      2.809104\n",
      "std       1.199549\n",
      "min       2.000000\n",
      "25%       2.000000\n",
      "50%       2.000000\n",
      "75%       3.000000\n",
      "max      10.000000\n",
      "Draw Date            0\n",
      "Winning Numbers      0\n",
      "Multiplier         210\n",
      "dtype: int64\n",
      "Empty DataFrame\n",
      "Columns: [Draw Date, Winning Numbers, Multiplier]\n",
      "Index: []\n"
     ]
    }
   ],
   "source": [
    "cdf = df_pb\n",
    "MegaWrangle(cdf,\"Yes\",\"No\",\"No\",\"No\",\"No\")\n",
    "MegaWrangle(cdf,\"No\",\"Yes\",\"No\",\"No\",\"No\")\n",
    "MegaWrangle(cdf,\"No\",\"No\",\"Yes\",\"No\",\"No\")\n",
    "MegaWrangle(cdf,\"No\",\"No\",\"No\",\"Yes\",\"No\")\n",
    "MegaWrangle(cdf,\"No\",\"No\",\"No\",\"No\",\"Yes\")"
   ]
  },
  {
   "cell_type": "markdown",
   "metadata": {},
   "source": [
    "### Data issues with Mega Million Data: \n",
    "### Data type issues: \n",
    "    1. Draw Date is object instead of Datetime\n",
    "    2. Winning number is object not int (Will seperate indiviual numbers and each will be in)\n",
    "### Other Issues: \n",
    "    1. Winning numbers are in a \"list\" inside of the varible. Will need to seperate these to ensure a good analysis\n",
    "    2. I was considering dropping Multiplyer. But it may be interesting to see if we have any trends based on that. \n",
    "### Justification:\n",
    "             Visual: Histograms is a good way to see what each of the vars look like. in this case, I noticed that Mega had \"MegaBall\" and powerball did not.\n",
    "             Programmitically: I have noticed data types were off. Winning numbers and Drawdate seen on the data type issues above. \n",
    "### This leads into the tidness issues. Winning numbers are a single data var instead of seperate numbers for mega millions\n",
    "## The data is similar where the issues are about the same. Mega Millions just did not have the same issue of missing the power ball / mega ball var. Mega ball is also already an int so we do not need to fix that. "
   ]
  },
  {
   "cell_type": "markdown",
   "metadata": {
    "id": "lXhGiYyiwwKN"
   },
   "source": [
    "# Tidiness Issues can be found above"
   ]
  },
  {
   "cell_type": "markdown",
   "metadata": {
    "id": "D6gmLnBttpCh"
   },
   "source": [
    "## 3. Clean data\n",
    "Clean the data to solve the 4 issues corresponding to data quality and tidiness found in the assessing step. **Make sure you include justifications for your cleaning decisions.**\n",
    "\n",
    "After the cleaning for each issue, please use **either** the visually or programatical method to validate the cleaning was succesful.\n",
    "\n",
    "At this stage, you are also expected to remove variables that are unnecessary for your analysis and combine your datasets. Depending on your datasets, you may choose to perform variable combination and elimination before or after the cleaning stage. Your dataset must have **at least** 4 variables after combining the data."
   ]
  },
  {
   "cell_type": "code",
   "execution_count": 13,
   "metadata": {},
   "outputs": [],
   "source": [
    "#Mega copy\n",
    "df_mmc = df_mm.copy()\n",
    "#Powerball copy\n",
    "df_pbc = df_pb.copy()"
   ]
  },
  {
   "cell_type": "markdown",
   "metadata": {},
   "source": [
    "### Set Nulls of each DF to the median"
   ]
  },
  {
   "cell_type": "code",
   "execution_count": 14,
   "metadata": {},
   "outputs": [],
   "source": [
    "median_value = df_pbc['Multiplier'].median()\n",
    "# Fill Na values in 'Multiplier' with the median value\n",
    "df_pbc['Multiplier'] = df_pbc['Multiplier'].fillna(median_value)"
   ]
  },
  {
   "cell_type": "code",
   "execution_count": 15,
   "metadata": {},
   "outputs": [],
   "source": [
    "median_value = df_mmc['Multiplier'].median()\n",
    "# Fill Na values with median\n",
    "df_mmc['Multiplier'] = df_mmc['Multiplier'].fillna(median_value)"
   ]
  },
  {
   "cell_type": "markdown",
   "metadata": {},
   "source": [
    "### Need to split column Winning Numbers into seperate numbers, and switch to int data type for the Mega Millions Data"
   ]
  },
  {
   "cell_type": "code",
   "execution_count": 16,
   "metadata": {},
   "outputs": [
    {
     "data": {
      "text/html": [
       "<div>\n",
       "<style scoped>\n",
       "    .dataframe tbody tr th:only-of-type {\n",
       "        vertical-align: middle;\n",
       "    }\n",
       "\n",
       "    .dataframe tbody tr th {\n",
       "        vertical-align: top;\n",
       "    }\n",
       "\n",
       "    .dataframe thead th {\n",
       "        text-align: right;\n",
       "    }\n",
       "</style>\n",
       "<table border=\"1\" class=\"dataframe\">\n",
       "  <thead>\n",
       "    <tr style=\"text-align: right;\">\n",
       "      <th></th>\n",
       "      <th>Draw Date</th>\n",
       "      <th>Winning Numbers</th>\n",
       "      <th>Mega Ball</th>\n",
       "      <th>Multiplier</th>\n",
       "      <th>mm_num_1</th>\n",
       "      <th>mm_num_2</th>\n",
       "      <th>mm_num_3</th>\n",
       "      <th>mm_num_4</th>\n",
       "      <th>mm_num_5</th>\n",
       "    </tr>\n",
       "  </thead>\n",
       "  <tbody>\n",
       "    <tr>\n",
       "      <th>0</th>\n",
       "      <td>09/25/2020</td>\n",
       "      <td>20 36 37 48 67</td>\n",
       "      <td>16</td>\n",
       "      <td>2.0</td>\n",
       "      <td>20</td>\n",
       "      <td>36</td>\n",
       "      <td>37</td>\n",
       "      <td>48</td>\n",
       "      <td>67</td>\n",
       "    </tr>\n",
       "    <tr>\n",
       "      <th>1</th>\n",
       "      <td>09/29/2020</td>\n",
       "      <td>14 39 43 44 67</td>\n",
       "      <td>19</td>\n",
       "      <td>3.0</td>\n",
       "      <td>14</td>\n",
       "      <td>39</td>\n",
       "      <td>43</td>\n",
       "      <td>44</td>\n",
       "      <td>67</td>\n",
       "    </tr>\n",
       "    <tr>\n",
       "      <th>2</th>\n",
       "      <td>10/02/2020</td>\n",
       "      <td>09 38 47 49 68</td>\n",
       "      <td>25</td>\n",
       "      <td>2.0</td>\n",
       "      <td>9</td>\n",
       "      <td>38</td>\n",
       "      <td>47</td>\n",
       "      <td>49</td>\n",
       "      <td>68</td>\n",
       "    </tr>\n",
       "    <tr>\n",
       "      <th>3</th>\n",
       "      <td>10/06/2020</td>\n",
       "      <td>15 16 18 39 59</td>\n",
       "      <td>17</td>\n",
       "      <td>3.0</td>\n",
       "      <td>15</td>\n",
       "      <td>16</td>\n",
       "      <td>18</td>\n",
       "      <td>39</td>\n",
       "      <td>59</td>\n",
       "    </tr>\n",
       "    <tr>\n",
       "      <th>4</th>\n",
       "      <td>10/09/2020</td>\n",
       "      <td>05 11 25 27 64</td>\n",
       "      <td>13</td>\n",
       "      <td>2.0</td>\n",
       "      <td>5</td>\n",
       "      <td>11</td>\n",
       "      <td>25</td>\n",
       "      <td>27</td>\n",
       "      <td>64</td>\n",
       "    </tr>\n",
       "  </tbody>\n",
       "</table>\n",
       "</div>"
      ],
      "text/plain": [
       "    Draw Date Winning Numbers  Mega Ball  Multiplier  mm_num_1  mm_num_2  \\\n",
       "0  09/25/2020  20 36 37 48 67         16         2.0        20        36   \n",
       "1  09/29/2020  14 39 43 44 67         19         3.0        14        39   \n",
       "2  10/02/2020  09 38 47 49 68         25         2.0         9        38   \n",
       "3  10/06/2020  15 16 18 39 59         17         3.0        15        16   \n",
       "4  10/09/2020  05 11 25 27 64         13         2.0         5        11   \n",
       "\n",
       "   mm_num_3  mm_num_4  mm_num_5  \n",
       "0        37        48        67  \n",
       "1        43        44        67  \n",
       "2        47        49        68  \n",
       "3        18        39        59  \n",
       "4        25        27        64  "
      ]
     },
     "execution_count": 16,
     "metadata": {},
     "output_type": "execute_result"
    }
   ],
   "source": [
    "#Split column for winning numbers into individual numbers\n",
    "split_columns = df_mmc['Winning Numbers'].str.split(' ', expand=True)\n",
    "#Makes all new columns int\n",
    "split_columns = split_columns.rename(columns=lambda x: f'mm_num_{x+1}').apply(pd.to_numeric)\n",
    "#join back to main dataframe\n",
    "df_mmc = df_mmc.join(split_columns)\n",
    "df_mmc.head()"
   ]
  },
  {
   "cell_type": "code",
   "execution_count": 17,
   "metadata": {},
   "outputs": [],
   "source": [
    "# Drop the 'Winning Numbers' column\n",
    "df_mmc = df_mmc.drop('Winning Numbers', axis=1)\n",
    "# Define the new order of columns\n",
    "new_column_order = ['Draw Date', 'mm_num_1', 'mm_num_2', 'mm_num_3', 'mm_num_4', 'mm_num_5','Mega Ball','Multiplier']\n",
    "# Reorder the columns\n",
    "df_mmc = df_mmc[new_column_order]"
   ]
  },
  {
   "cell_type": "code",
   "execution_count": 18,
   "metadata": {},
   "outputs": [
    {
     "data": {
      "text/html": [
       "<div>\n",
       "<style scoped>\n",
       "    .dataframe tbody tr th:only-of-type {\n",
       "        vertical-align: middle;\n",
       "    }\n",
       "\n",
       "    .dataframe tbody tr th {\n",
       "        vertical-align: top;\n",
       "    }\n",
       "\n",
       "    .dataframe thead th {\n",
       "        text-align: right;\n",
       "    }\n",
       "</style>\n",
       "<table border=\"1\" class=\"dataframe\">\n",
       "  <thead>\n",
       "    <tr style=\"text-align: right;\">\n",
       "      <th></th>\n",
       "      <th>Draw Date</th>\n",
       "      <th>mm_num_1</th>\n",
       "      <th>mm_num_2</th>\n",
       "      <th>mm_num_3</th>\n",
       "      <th>mm_num_4</th>\n",
       "      <th>mm_num_5</th>\n",
       "      <th>Mega Ball</th>\n",
       "      <th>Multiplier</th>\n",
       "    </tr>\n",
       "  </thead>\n",
       "  <tbody>\n",
       "    <tr>\n",
       "      <th>0</th>\n",
       "      <td>09/25/2020</td>\n",
       "      <td>20</td>\n",
       "      <td>36</td>\n",
       "      <td>37</td>\n",
       "      <td>48</td>\n",
       "      <td>67</td>\n",
       "      <td>16</td>\n",
       "      <td>2.0</td>\n",
       "    </tr>\n",
       "    <tr>\n",
       "      <th>1</th>\n",
       "      <td>09/29/2020</td>\n",
       "      <td>14</td>\n",
       "      <td>39</td>\n",
       "      <td>43</td>\n",
       "      <td>44</td>\n",
       "      <td>67</td>\n",
       "      <td>19</td>\n",
       "      <td>3.0</td>\n",
       "    </tr>\n",
       "    <tr>\n",
       "      <th>2</th>\n",
       "      <td>10/02/2020</td>\n",
       "      <td>9</td>\n",
       "      <td>38</td>\n",
       "      <td>47</td>\n",
       "      <td>49</td>\n",
       "      <td>68</td>\n",
       "      <td>25</td>\n",
       "      <td>2.0</td>\n",
       "    </tr>\n",
       "    <tr>\n",
       "      <th>3</th>\n",
       "      <td>10/06/2020</td>\n",
       "      <td>15</td>\n",
       "      <td>16</td>\n",
       "      <td>18</td>\n",
       "      <td>39</td>\n",
       "      <td>59</td>\n",
       "      <td>17</td>\n",
       "      <td>3.0</td>\n",
       "    </tr>\n",
       "    <tr>\n",
       "      <th>4</th>\n",
       "      <td>10/09/2020</td>\n",
       "      <td>5</td>\n",
       "      <td>11</td>\n",
       "      <td>25</td>\n",
       "      <td>27</td>\n",
       "      <td>64</td>\n",
       "      <td>13</td>\n",
       "      <td>2.0</td>\n",
       "    </tr>\n",
       "  </tbody>\n",
       "</table>\n",
       "</div>"
      ],
      "text/plain": [
       "    Draw Date  mm_num_1  mm_num_2  mm_num_3  mm_num_4  mm_num_5  Mega Ball  \\\n",
       "0  09/25/2020        20        36        37        48        67         16   \n",
       "1  09/29/2020        14        39        43        44        67         19   \n",
       "2  10/02/2020         9        38        47        49        68         25   \n",
       "3  10/06/2020        15        16        18        39        59         17   \n",
       "4  10/09/2020         5        11        25        27        64         13   \n",
       "\n",
       "   Multiplier  \n",
       "0         2.0  \n",
       "1         3.0  \n",
       "2         2.0  \n",
       "3         3.0  \n",
       "4         2.0  "
      ]
     },
     "execution_count": 18,
     "metadata": {},
     "output_type": "execute_result"
    }
   ],
   "source": [
    "df_mmc.head()"
   ]
  },
  {
   "cell_type": "markdown",
   "metadata": {},
   "source": [
    "Justification: *FILL IN*"
   ]
  },
  {
   "cell_type": "markdown",
   "metadata": {
    "id": "FmFhN52Yyn3l"
   },
   "source": [
    "### Fix Data Types: Date needs to be Date Time, and Multi needs to be Int. "
   ]
  },
  {
   "cell_type": "code",
   "execution_count": 19,
   "metadata": {
    "id": "9UejDWrNMW4a"
   },
   "outputs": [],
   "source": [
    "df_mmc['Draw Date'] = pd.to_datetime(df_pbc['Draw Date'])\n",
    "df_mmc['Multiplier'] = df_pbc['Multiplier'].astype(int)"
   ]
  },
  {
   "cell_type": "code",
   "execution_count": 20,
   "metadata": {
    "id": "oUBee-LPytkv"
   },
   "outputs": [
    {
     "name": "stdout",
     "output_type": "stream",
     "text": [
      "Draw Date           object\n",
      "Winning Numbers     object\n",
      "Multiplier         float64\n",
      "dtype: object\n"
     ]
    }
   ],
   "source": [
    "cdf = df_pbc\n",
    "MegaWrangle(cdf,\"No\",\"Yes\",\"No\",\"No\",\"No\")"
   ]
  },
  {
   "cell_type": "markdown",
   "metadata": {},
   "source": [
    "#### Needed to change to different types of data for analysis"
   ]
  },
  {
   "cell_type": "markdown",
   "metadata": {},
   "source": [
    "### Need to split column Winning Numbers into seperate numbers, and switch to int data type for the Power Ball Data"
   ]
  },
  {
   "cell_type": "code",
   "execution_count": 21,
   "metadata": {},
   "outputs": [],
   "source": [
    "# Assuming 'list_column' is your column with the list of numbers\n",
    "split_columns = df_pbc['Winning Numbers'].str.split(' ', expand=True)\n",
    "# Optionally, rename these new columns and convert them to numeric\n",
    "split_columns = split_columns.rename(columns=lambda x: f'pb_num_{x+1}').apply(pd.to_numeric)\n",
    "# Join these new columns back to your original DataFrame\n",
    "df_pbc = df_pbc.join(split_columns)"
   ]
  },
  {
   "cell_type": "code",
   "execution_count": 22,
   "metadata": {},
   "outputs": [],
   "source": [
    "# Drop the 'Winning Numbers' column\n",
    "df_pbc = df_pbc.drop('Winning Numbers', axis=1)\n",
    "# Define the new order of columns\n",
    "new_column_order = ['Draw Date', 'pb_num_1', 'pb_num_2', 'pb_num_3', 'pb_num_4', 'pb_num_5', 'pb_num_6', 'Multiplier']\n",
    "# Reorder the columns\n",
    "df_pbc = df_pbc[new_column_order]\n",
    "#Renamed Number 6 to PowerNum\n",
    "df_pbc = df_pbc.rename(columns={'pb_num_6': 'PowerNum'})"
   ]
  },
  {
   "cell_type": "code",
   "execution_count": 23,
   "metadata": {},
   "outputs": [
    {
     "data": {
      "text/html": [
       "<div>\n",
       "<style scoped>\n",
       "    .dataframe tbody tr th:only-of-type {\n",
       "        vertical-align: middle;\n",
       "    }\n",
       "\n",
       "    .dataframe tbody tr th {\n",
       "        vertical-align: top;\n",
       "    }\n",
       "\n",
       "    .dataframe thead th {\n",
       "        text-align: right;\n",
       "    }\n",
       "</style>\n",
       "<table border=\"1\" class=\"dataframe\">\n",
       "  <thead>\n",
       "    <tr style=\"text-align: right;\">\n",
       "      <th></th>\n",
       "      <th>Draw Date</th>\n",
       "      <th>pb_num_1</th>\n",
       "      <th>pb_num_2</th>\n",
       "      <th>pb_num_3</th>\n",
       "      <th>pb_num_4</th>\n",
       "      <th>pb_num_5</th>\n",
       "      <th>PowerNum</th>\n",
       "      <th>Multiplier</th>\n",
       "    </tr>\n",
       "  </thead>\n",
       "  <tbody>\n",
       "    <tr>\n",
       "      <th>0</th>\n",
       "      <td>09/26/2020</td>\n",
       "      <td>11</td>\n",
       "      <td>21</td>\n",
       "      <td>27</td>\n",
       "      <td>36</td>\n",
       "      <td>62</td>\n",
       "      <td>24</td>\n",
       "      <td>3.0</td>\n",
       "    </tr>\n",
       "    <tr>\n",
       "      <th>1</th>\n",
       "      <td>09/30/2020</td>\n",
       "      <td>14</td>\n",
       "      <td>18</td>\n",
       "      <td>36</td>\n",
       "      <td>49</td>\n",
       "      <td>67</td>\n",
       "      <td>18</td>\n",
       "      <td>2.0</td>\n",
       "    </tr>\n",
       "    <tr>\n",
       "      <th>2</th>\n",
       "      <td>10/03/2020</td>\n",
       "      <td>18</td>\n",
       "      <td>31</td>\n",
       "      <td>36</td>\n",
       "      <td>43</td>\n",
       "      <td>47</td>\n",
       "      <td>20</td>\n",
       "      <td>2.0</td>\n",
       "    </tr>\n",
       "    <tr>\n",
       "      <th>3</th>\n",
       "      <td>10/07/2020</td>\n",
       "      <td>6</td>\n",
       "      <td>24</td>\n",
       "      <td>30</td>\n",
       "      <td>53</td>\n",
       "      <td>56</td>\n",
       "      <td>19</td>\n",
       "      <td>2.0</td>\n",
       "    </tr>\n",
       "    <tr>\n",
       "      <th>4</th>\n",
       "      <td>10/10/2020</td>\n",
       "      <td>5</td>\n",
       "      <td>18</td>\n",
       "      <td>23</td>\n",
       "      <td>40</td>\n",
       "      <td>50</td>\n",
       "      <td>18</td>\n",
       "      <td>3.0</td>\n",
       "    </tr>\n",
       "  </tbody>\n",
       "</table>\n",
       "</div>"
      ],
      "text/plain": [
       "    Draw Date  pb_num_1  pb_num_2  pb_num_3  pb_num_4  pb_num_5  PowerNum  \\\n",
       "0  09/26/2020        11        21        27        36        62        24   \n",
       "1  09/30/2020        14        18        36        49        67        18   \n",
       "2  10/03/2020        18        31        36        43        47        20   \n",
       "3  10/07/2020         6        24        30        53        56        19   \n",
       "4  10/10/2020         5        18        23        40        50        18   \n",
       "\n",
       "   Multiplier  \n",
       "0         3.0  \n",
       "1         2.0  \n",
       "2         2.0  \n",
       "3         2.0  \n",
       "4         3.0  "
      ]
     },
     "execution_count": 23,
     "metadata": {},
     "output_type": "execute_result"
    }
   ],
   "source": [
    "df_pbc.head()"
   ]
  },
  {
   "cell_type": "markdown",
   "metadata": {},
   "source": [
    "Allows us to count each occurance of every number now that they are seperate"
   ]
  },
  {
   "cell_type": "markdown",
   "metadata": {
    "id": "n_DAUbJrymBL"
   },
   "source": [
    "### ### Fix Data Types: Date needs to be Date Time, and Multi needs to be Int. "
   ]
  },
  {
   "cell_type": "code",
   "execution_count": 24,
   "metadata": {},
   "outputs": [],
   "source": [
    "df_pbc['Draw Date'] = pd.to_datetime(df_pbc['Draw Date'])\n",
    "df_pbc['Multiplier'] = df_pbc['Multiplier'].astype(int)"
   ]
  },
  {
   "cell_type": "code",
   "execution_count": 25,
   "metadata": {
    "id": "ionB2sRaMUmY"
   },
   "outputs": [
    {
     "name": "stdout",
     "output_type": "stream",
     "text": [
      "Draw Date     datetime64[ns]\n",
      "mm_num_1               int64\n",
      "mm_num_2               int64\n",
      "mm_num_3               int64\n",
      "mm_num_4               int64\n",
      "mm_num_5               int64\n",
      "Mega Ball              int64\n",
      "Multiplier           float64\n",
      "dtype: object\n"
     ]
    }
   ],
   "source": [
    "cdf = df_mmc\n",
    "MegaWrangle(cdf,\"No\",\"Yes\",\"No\",\"No\",\"No\")"
   ]
  },
  {
   "cell_type": "markdown",
   "metadata": {},
   "source": [
    "## Fixed data types so analysis is possible and neat. "
   ]
  },
  {
   "cell_type": "code",
   "execution_count": 26,
   "metadata": {
    "id": "7zW8O5yx4Y9O"
   },
   "outputs": [
    {
     "name": "stdout",
     "output_type": "stream",
     "text": [
      "Draw Date     datetime64[ns]\n",
      "mm_num_1               int64\n",
      "mm_num_2               int64\n",
      "mm_num_3               int64\n",
      "mm_num_4               int64\n",
      "mm_num_5               int64\n",
      "Mega Ball              int64\n",
      "Multiplier           float64\n",
      "dtype: object\n"
     ]
    }
   ],
   "source": [
    "cdf = df_mmc\n",
    "MegaWrangle(cdf,\"No\",\"Yes\",\"No\",\"No\",\"No\")"
   ]
  },
  {
   "cell_type": "code",
   "execution_count": 27,
   "metadata": {},
   "outputs": [],
   "source": [
    "df_mmc['Draw Date'] = pd.to_datetime(df_pbc['Draw Date'])\n",
    "df_mmc['Multiplier'] = df_pbc['Multiplier'].astype(int)"
   ]
  },
  {
   "cell_type": "code",
   "execution_count": 28,
   "metadata": {
    "id": "q6I_Sr7lxXi5"
   },
   "outputs": [
    {
     "name": "stdout",
     "output_type": "stream",
     "text": [
      "Draw Date     datetime64[ns]\n",
      "pb_num_1               int64\n",
      "pb_num_2               int64\n",
      "pb_num_3               int64\n",
      "pb_num_4               int64\n",
      "pb_num_5               int64\n",
      "PowerNum               int64\n",
      "Multiplier             int64\n",
      "dtype: object\n"
     ]
    }
   ],
   "source": [
    "cdf = df_pbc\n",
    "MegaWrangle(cdf,\"No\",\"Yes\",\"No\",\"No\",\"No\")"
   ]
  },
  {
   "cell_type": "markdown",
   "metadata": {},
   "source": [
    "#### Fixed data types so analysis is possible and neat. "
   ]
  },
  {
   "cell_type": "markdown",
   "metadata": {},
   "source": [
    "### **Remove unnecessary variables and combine datasets**\n",
    "\n",
    "Depending on the datasets, you can also peform the combination before the cleaning steps."
   ]
  },
  {
   "cell_type": "code",
   "execution_count": 29,
   "metadata": {},
   "outputs": [
    {
     "name": "stdout",
     "output_type": "stream",
     "text": [
      "(2256, 8)\n",
      "(1572, 8)\n",
      "(3828, 14)\n",
      "3828\n"
     ]
    }
   ],
   "source": [
    "df_allin = pd.concat([df_mmc, df_pbc], ignore_index=True)\n",
    "x = df_mmc.shape\n",
    "y = df_pbc.shape\n",
    "z = df_allin.shape\n",
    "print(x)\n",
    "print(y)\n",
    "print(z)\n",
    "print(2256 + 1572)"
   ]
  },
  {
   "cell_type": "markdown",
   "metadata": {
    "id": "F42urHuzttjF"
   },
   "source": [
    "## 4. Update your data store\n",
    "Update your local database/data store with the cleaned data, following best practices for storing your cleaned data:\n",
    "\n",
    "- Must maintain different instances / versions of data (raw and cleaned data)\n",
    "- Must name the dataset files informatively\n",
    "- Ensure both the raw and cleaned data is saved to your database/data store"
   ]
  },
  {
   "cell_type": "code",
   "execution_count": 30,
   "metadata": {
    "id": "V3uay7EJUV_L"
   },
   "outputs": [],
   "source": [
    "df_allin.to_csv('mergeddata.csv', index=False)"
   ]
  },
  {
   "cell_type": "markdown",
   "metadata": {
    "id": "cGy_yddGtzhM"
   },
   "source": [
    "## 5. Answer the research question\n",
    "\n",
    "### **5.1:** Define and answer the research question \n",
    "Going back to the problem statement in step 1, use the cleaned data to answer the question you raised. Produce **at least** two visualizations using the cleaned data and explain how they help you answer the question."
   ]
  },
  {
   "cell_type": "markdown",
   "metadata": {
    "id": "gjedE4s4ZkEd"
   },
   "source": [
    "*Research question:* FILL IN from answer to Step 1"
   ]
  },
  {
   "cell_type": "code",
   "execution_count": 31,
   "metadata": {
    "id": "Lkw3rW9kZmOm"
   },
   "outputs": [],
   "source": [
    "# Columns representing the drawn numbers\n",
    "number_columns = ['mm_num_1', 'mm_num_2', 'mm_num_3', 'mm_num_4', 'mm_num_5','pb_num_1', 'pb_num_2', 'pb_num_3', 'pb_num_4', 'pb_num_5']\n",
    "# Aggregate counts for each number\n",
    "number_counts = pd.Series(dtype=int)\n",
    "for col in number_columns:\n",
    "    number_counts = number_counts.add(df_allin[col].value_counts(), fill_value=0)\n",
    "# Sort the counts\n",
    "number_counts = number_counts.sort_values(ascending=False)"
   ]
  },
  {
   "cell_type": "code",
   "execution_count": 32,
   "metadata": {},
   "outputs": [
    {
     "data": {
      "image/png": "[encoded data removed]",
      "text/plain": [
       "<Figure size 1200x600 with 1 Axes>"
      ]
     },
     "metadata": {},
     "output_type": "display_data"
    }
   ],
   "source": [
    "# Creating a bar chart\n",
    "number_counts.index = number_counts.index.astype(int)\n",
    "number_counts.plot(kind='bar', figsize=(12, 6))\n",
    "plt.title('Frequency of Numbers')\n",
    "plt.xlabel('Number')\n",
    "plt.ylabel('Frequency')\n",
    "plt.show()"
   ]
  },
  {
   "cell_type": "markdown",
   "metadata": {},
   "source": [
    "## This shows amazing insights for the most freq. numbers. It seems that in a trend, numbers below 60 have a much higher chance of being chosen. "
   ]
  },
  {
   "cell_type": "code",
   "execution_count": 33,
   "metadata": {
    "id": "6fdK_8ZGZm9R"
   },
   "outputs": [
    {
     "data": {
      "image/png": "[encoded data removed]",
      "text/plain": [
       "<Figure size 640x480 with 1 Axes>"
      ]
     },
     "metadata": {},
     "output_type": "display_data"
    }
   ],
   "source": [
    "#Creating a scatter plot\n",
    "plt.scatter(number_counts.index, number_counts.values)\n",
    "plt.title('Frequency of Numbers - Scatter Plot')\n",
    "plt.xlabel('Number')\n",
    "plt.ylabel('Frequency')\n",
    "plt.grid(True)\n",
    "plt.show()"
   ]
  },
  {
   "cell_type": "markdown",
   "metadata": {
    "id": "K5RgvMGUZoHn"
   },
   "source": [
    "## This is a view based on order of the numbers. We can see a large drop off near the 55 range until hitting a low of 70"
   ]
  },
  {
   "cell_type": "markdown",
   "metadata": {
    "id": "0ezWXXZVj-TP"
   },
   "source": [
    "### **5.2:** Reflection\n",
    "#### If I had a large amount of time, I would gather from each state, and see what numbers are chosen the most often from each state. Once that is complete, comparing all the data so I could get a nation wide data set and see if the numbers change. "
   ]
  }
 ],
 "metadata": {
  "colab": {
   "provenance": []
  },
  "kernelspec": {
   "display_name": "Python 3 (ipykernel)",
   "language": "python",
   "name": "python3"
  },
  "language_info": {
   "codemirror_mode": {
    "name": "ipython",
    "version": 3
   },
   "file_extension": ".py",
   "mimetype": "text/x-python",
   "name": "python",
   "nbconvert_exporter": "python",
   "pygments_lexer": "ipython3",
   "version": "3.10.10"
  }
 },
 "nbformat": 4,
 "nbformat_minor": 1
}
